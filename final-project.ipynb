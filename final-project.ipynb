{
 "cells": [
  {
   "cell_type": "code",
   "execution_count": null,
   "metadata": {
    "vscode": {
     "languageId": "plaintext"
    }
   },
   "outputs": [],
   "source": [
    "# Set Up:\n",
    "import sys\n",
    "USING_COLAB = 'google.colab' in sys.modules\n",
    "\n",
    "if USING_COLAB:\n",
    "\n",
    "    !sudo add-apt-repository -y ppa:openjdk-r/ppa\n",
    "    !sudo apt-get purge openjdk-*\n",
    "    !sudo apt-get install openjdk-8-jdk\n",
    "    !sudo apt-get install xvfb xserver-xephyr vnc4server python-opengl ffmpeg\n",
    "    !wget -O mini.sh https://repo.anaconda.com/miniconda/Miniconda3-py39_4.9.2-Linux-x86_64.sh\n",
    "    \n",
    "    !chmod +x mini.sh\n",
    "    !bash ./mini.sh -b -f -p /usr/local\n",
    "    !conda install -q -y jupyter\n",
    "    !conda install -q -y google-colab -c conda-forge\n",
    "    !python -m ipykernel install --name \"py39\" --user\n",
    "\n",
    "    !apt-get install -y xvfb python-opengl ffmpeg > /dev/null 2>&1\n",
    "    !pip install -U renderlab\n",
    "    !pip install -U colabgymrender\n",
    "    !pip install --upgrade AutoROM\n",
    "    !AutoROM --accept-license\n",
    "    !pip install gymnasium\n",
    "    !pip install gym[classic_control] > /dev/null 2>&1\n"
   ]
  },
  {
   "cell_type": "code",
   "execution_count": null,
   "metadata": {
    "vscode": {
     "languageId": "plaintext"
    }
   },
   "outputs": [],
   "source": [
    "!pip3 install minedojo"
   ]
  },
  {
   "cell_type": "code",
   "execution_count": null,
   "metadata": {
    "vscode": {
     "languageId": "plaintext"
    }
   },
   "outputs": [],
   "source": [
    "import numpy as np\n",
    "import gymnasium as gym\n",
    "import random\n",
    "import matplotlib.pyplot as plt\n",
    "from copy import deepcopy\n",
    "\n",
    "from torch.utils.data import DataLoader\n",
    "from torch import nn\n",
    "import torch\n",
    "\n",
    "from tqdm import tqdm, trange"
   ]
  }
 ],
 "metadata": {
  "language_info": {
   "name": "python"
  }
 },
 "nbformat": 4,
 "nbformat_minor": 2
}
