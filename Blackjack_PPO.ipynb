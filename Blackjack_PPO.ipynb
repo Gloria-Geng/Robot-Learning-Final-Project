{
  "cells": [
    {
      "cell_type": "code",
      "execution_count": 45,
      "metadata": {
        "colab": {
          "base_uri": "https://localhost:8080/"
        },
        "collapsed": true,
        "id": "XfDrjUkSbG3b",
        "outputId": "da8fd112-b21f-4918-c498-d7abe889f1fe"
      },
      "outputs": [
        {
          "output_type": "stream",
          "name": "stdout",
          "text": [
            "Requirement already satisfied: renderlab in /usr/local/lib/python3.10/dist-packages (0.1.20230421184216)\n",
            "Requirement already satisfied: moviepy in /usr/local/lib/python3.10/dist-packages (from renderlab) (0.2.3.5)\n",
            "Requirement already satisfied: gymnasium in /usr/local/lib/python3.10/dist-packages (from renderlab) (1.0.0)\n",
            "Requirement already satisfied: numpy>=1.21.0 in /usr/local/lib/python3.10/dist-packages (from gymnasium->renderlab) (1.26.4)\n",
            "Requirement already satisfied: cloudpickle>=1.2.0 in /usr/local/lib/python3.10/dist-packages (from gymnasium->renderlab) (3.1.0)\n",
            "Requirement already satisfied: typing-extensions>=4.3.0 in /usr/local/lib/python3.10/dist-packages (from gymnasium->renderlab) (4.12.2)\n",
            "Requirement already satisfied: farama-notifications>=0.0.1 in /usr/local/lib/python3.10/dist-packages (from gymnasium->renderlab) (0.0.4)\n",
            "Requirement already satisfied: decorator<5.0,>=4.0.2 in /usr/local/lib/python3.10/dist-packages (from moviepy->renderlab) (4.4.2)\n",
            "Requirement already satisfied: imageio<3.0,>=2.1.2 in /usr/local/lib/python3.10/dist-packages (from moviepy->renderlab) (2.4.1)\n",
            "Requirement already satisfied: tqdm<5.0,>=4.11.2 in /usr/local/lib/python3.10/dist-packages (from moviepy->renderlab) (4.66.6)\n",
            "Requirement already satisfied: pillow in /usr/local/lib/python3.10/dist-packages (from imageio<3.0,>=2.1.2->moviepy->renderlab) (11.0.0)\n",
            "Requirement already satisfied: colabgymrender in /usr/local/lib/python3.10/dist-packages (1.1.0)\n",
            "Requirement already satisfied: moviepy in /usr/local/lib/python3.10/dist-packages (from colabgymrender) (0.2.3.5)\n",
            "Requirement already satisfied: decorator<5.0,>=4.0.2 in /usr/local/lib/python3.10/dist-packages (from moviepy->colabgymrender) (4.4.2)\n",
            "Requirement already satisfied: imageio<3.0,>=2.1.2 in /usr/local/lib/python3.10/dist-packages (from moviepy->colabgymrender) (2.4.1)\n",
            "Requirement already satisfied: tqdm<5.0,>=4.11.2 in /usr/local/lib/python3.10/dist-packages (from moviepy->colabgymrender) (4.66.6)\n",
            "Requirement already satisfied: numpy in /usr/local/lib/python3.10/dist-packages (from moviepy->colabgymrender) (1.26.4)\n",
            "Requirement already satisfied: pillow in /usr/local/lib/python3.10/dist-packages (from imageio<3.0,>=2.1.2->moviepy->colabgymrender) (11.0.0)\n",
            "Requirement already satisfied: moviepy==0.2.3.5 in /usr/local/lib/python3.10/dist-packages (0.2.3.5)\n",
            "Requirement already satisfied: decorator<5.0,>=4.0.2 in /usr/local/lib/python3.10/dist-packages (from moviepy==0.2.3.5) (4.4.2)\n",
            "Requirement already satisfied: imageio<3.0,>=2.1.2 in /usr/local/lib/python3.10/dist-packages (from moviepy==0.2.3.5) (2.4.1)\n",
            "Requirement already satisfied: tqdm<5.0,>=4.11.2 in /usr/local/lib/python3.10/dist-packages (from moviepy==0.2.3.5) (4.66.6)\n",
            "Requirement already satisfied: numpy in /usr/local/lib/python3.10/dist-packages (from moviepy==0.2.3.5) (1.26.4)\n",
            "Requirement already satisfied: pillow in /usr/local/lib/python3.10/dist-packages (from imageio<3.0,>=2.1.2->moviepy==0.2.3.5) (11.0.0)\n",
            "Requirement already satisfied: imageio==2.4.1 in /usr/local/lib/python3.10/dist-packages (2.4.1)\n",
            "Requirement already satisfied: numpy in /usr/local/lib/python3.10/dist-packages (from imageio==2.4.1) (1.26.4)\n",
            "Requirement already satisfied: pillow in /usr/local/lib/python3.10/dist-packages (from imageio==2.4.1) (11.0.0)\n",
            "Requirement already satisfied: AutoROM in /usr/local/lib/python3.10/dist-packages (0.6.1)\n",
            "Requirement already satisfied: click in /usr/local/lib/python3.10/dist-packages (from AutoROM) (8.1.7)\n",
            "Requirement already satisfied: requests in /usr/local/lib/python3.10/dist-packages (from AutoROM) (2.32.3)\n",
            "Requirement already satisfied: charset-normalizer<4,>=2 in /usr/local/lib/python3.10/dist-packages (from requests->AutoROM) (3.4.0)\n",
            "Requirement already satisfied: idna<4,>=2.5 in /usr/local/lib/python3.10/dist-packages (from requests->AutoROM) (3.10)\n",
            "Requirement already satisfied: urllib3<3,>=1.21.1 in /usr/local/lib/python3.10/dist-packages (from requests->AutoROM) (2.2.3)\n",
            "Requirement already satisfied: certifi>=2017.4.17 in /usr/local/lib/python3.10/dist-packages (from requests->AutoROM) (2024.8.30)\n",
            "AutoROM will download the Atari 2600 ROMs.\n",
            "They will be installed to:\n",
            "\t/usr/local/lib/python3.10/dist-packages/AutoROM/roms\n",
            "\n",
            "Existing ROMs will be overwritten.\n",
            "Requirement already satisfied: gymnasium in /usr/local/lib/python3.10/dist-packages (1.0.0)\n",
            "Requirement already satisfied: numpy>=1.21.0 in /usr/local/lib/python3.10/dist-packages (from gymnasium) (1.26.4)\n",
            "Requirement already satisfied: cloudpickle>=1.2.0 in /usr/local/lib/python3.10/dist-packages (from gymnasium) (3.1.0)\n",
            "Requirement already satisfied: typing-extensions>=4.3.0 in /usr/local/lib/python3.10/dist-packages (from gymnasium) (4.12.2)\n",
            "Requirement already satisfied: farama-notifications>=0.0.1 in /usr/local/lib/python3.10/dist-packages (from gymnasium) (0.0.4)\n",
            "Requirement already satisfied: stable_baselines3 in /usr/local/lib/python3.10/dist-packages (2.4.0)\n",
            "Requirement already satisfied: gymnasium<1.1.0,>=0.29.1 in /usr/local/lib/python3.10/dist-packages (from stable_baselines3) (1.0.0)\n",
            "Requirement already satisfied: numpy<2.0,>=1.20 in /usr/local/lib/python3.10/dist-packages (from stable_baselines3) (1.26.4)\n",
            "Requirement already satisfied: torch>=1.13 in /usr/local/lib/python3.10/dist-packages (from stable_baselines3) (2.5.1+cu121)\n",
            "Requirement already satisfied: cloudpickle in /usr/local/lib/python3.10/dist-packages (from stable_baselines3) (3.1.0)\n",
            "Requirement already satisfied: pandas in /usr/local/lib/python3.10/dist-packages (from stable_baselines3) (2.2.2)\n",
            "Requirement already satisfied: matplotlib in /usr/local/lib/python3.10/dist-packages (from stable_baselines3) (3.8.0)\n",
            "Requirement already satisfied: typing-extensions>=4.3.0 in /usr/local/lib/python3.10/dist-packages (from gymnasium<1.1.0,>=0.29.1->stable_baselines3) (4.12.2)\n",
            "Requirement already satisfied: farama-notifications>=0.0.1 in /usr/local/lib/python3.10/dist-packages (from gymnasium<1.1.0,>=0.29.1->stable_baselines3) (0.0.4)\n",
            "Requirement already satisfied: filelock in /usr/local/lib/python3.10/dist-packages (from torch>=1.13->stable_baselines3) (3.16.1)\n",
            "Requirement already satisfied: networkx in /usr/local/lib/python3.10/dist-packages (from torch>=1.13->stable_baselines3) (3.4.2)\n",
            "Requirement already satisfied: jinja2 in /usr/local/lib/python3.10/dist-packages (from torch>=1.13->stable_baselines3) (3.1.4)\n",
            "Requirement already satisfied: fsspec in /usr/local/lib/python3.10/dist-packages (from torch>=1.13->stable_baselines3) (2024.10.0)\n",
            "Requirement already satisfied: sympy==1.13.1 in /usr/local/lib/python3.10/dist-packages (from torch>=1.13->stable_baselines3) (1.13.1)\n",
            "Requirement already satisfied: mpmath<1.4,>=1.1.0 in /usr/local/lib/python3.10/dist-packages (from sympy==1.13.1->torch>=1.13->stable_baselines3) (1.3.0)\n",
            "Requirement already satisfied: contourpy>=1.0.1 in /usr/local/lib/python3.10/dist-packages (from matplotlib->stable_baselines3) (1.3.1)\n",
            "Requirement already satisfied: cycler>=0.10 in /usr/local/lib/python3.10/dist-packages (from matplotlib->stable_baselines3) (0.12.1)\n",
            "Requirement already satisfied: fonttools>=4.22.0 in /usr/local/lib/python3.10/dist-packages (from matplotlib->stable_baselines3) (4.55.2)\n",
            "Requirement already satisfied: kiwisolver>=1.0.1 in /usr/local/lib/python3.10/dist-packages (from matplotlib->stable_baselines3) (1.4.7)\n",
            "Requirement already satisfied: packaging>=20.0 in /usr/local/lib/python3.10/dist-packages (from matplotlib->stable_baselines3) (24.2)\n",
            "Requirement already satisfied: pillow>=6.2.0 in /usr/local/lib/python3.10/dist-packages (from matplotlib->stable_baselines3) (11.0.0)\n",
            "Requirement already satisfied: pyparsing>=2.3.1 in /usr/local/lib/python3.10/dist-packages (from matplotlib->stable_baselines3) (3.2.0)\n",
            "Requirement already satisfied: python-dateutil>=2.7 in /usr/local/lib/python3.10/dist-packages (from matplotlib->stable_baselines3) (2.8.2)\n",
            "Requirement already satisfied: pytz>=2020.1 in /usr/local/lib/python3.10/dist-packages (from pandas->stable_baselines3) (2024.2)\n",
            "Requirement already satisfied: tzdata>=2022.7 in /usr/local/lib/python3.10/dist-packages (from pandas->stable_baselines3) (2024.2)\n",
            "Requirement already satisfied: six>=1.5 in /usr/local/lib/python3.10/dist-packages (from python-dateutil>=2.7->matplotlib->stable_baselines3) (1.17.0)\n",
            "Requirement already satisfied: MarkupSafe>=2.0 in /usr/local/lib/python3.10/dist-packages (from jinja2->torch>=1.13->stable_baselines3) (3.0.2)\n"
          ]
        }
      ],
      "source": [
        "import sys\n",
        "USING_COLAB = 'google.colab' in sys.modules\n",
        "\n",
        "if USING_COLAB:\n",
        "    !apt-get install -y xvfb python-opengl ffmpeg > /dev/null 2>&1\n",
        "    !pip install -U renderlab\n",
        "    !pip install -U colabgymrender\n",
        "    !pip install -U moviepy==0.2.3.5\n",
        "    !pip install imageio==2.4.1\n",
        "    !pip install --upgrade AutoROM\n",
        "    !AutoROM --accept-license\n",
        "    !pip install gymnasium\n",
        "    # !pip install gym[classic_control] > /dev/null 2>&1\n",
        "    !pip install stable_baselines3\n",
        "\n",
        "import numpy as np\n",
        "import gymnasium as gym\n",
        "import random\n",
        "import matplotlib.pyplot as plt\n",
        "from copy import deepcopy\n",
        "\n",
        "from torch.utils.data import DataLoader\n",
        "from torch import nn\n",
        "import torch\n",
        "from gym import spaces\n",
        "\n",
        "from __future__ import annotations\n",
        "\n",
        "from collections import defaultdict\n",
        "\n",
        "import seaborn as sns\n",
        "from matplotlib.patches import Patch\n",
        "\n",
        "from tqdm import tqdm, trange\n",
        "\n",
        "seed = 4756\n",
        "data_seed = 700"
      ]
    },
    {
      "cell_type": "code",
      "execution_count": 46,
      "metadata": {
        "id": "LvAlEMo3fZt0"
      },
      "outputs": [],
      "source": [
        "# Setting the seed to ensure reproducability\n",
        "def reseed(seed, env=None):\n",
        "    '''\n",
        "        Sets the seed for reproducibility\n",
        "\n",
        "        When @param env is provided, also sets the\n",
        "        random number generataor of the gym environment\n",
        "        to this particular seed\n",
        "    '''\n",
        "    torch.manual_seed(seed)\n",
        "    random.seed(seed)\n",
        "    np.random.seed(seed)\n",
        "\n",
        "    if env is not None:\n",
        "        env.unwrapped._np_random = gym.utils.seeding.np_random(seed)[0]\n",
        "\n",
        "reseed(seed)"
      ]
    },
    {
      "cell_type": "code",
      "execution_count": 47,
      "metadata": {
        "id": "Eb6RQ0DrcAdy"
      },
      "outputs": [],
      "source": [
        "def visualize(env_name=\"Blackjack-v1\", algorithm=None, video_name=\"test\", env_args={}):\n",
        "    \"\"\"Visualize a policy network for a given algorithm on a single episode\n",
        "\n",
        "        Args:\n",
        "            env_name: Name of the gym environment to roll out `algorithm` in, it will be instantiated using gym.make or make_vec_env\n",
        "            algorithm (PPOActor): Actor whose policy network will be rolled out for the episode. If\n",
        "            no algorithm is passed in, a random policy will be visualized.\n",
        "            video_name (str): Name for the mp4 file of the episode that will be saved (omit .mp4). Only used\n",
        "            when running on local machine.\n",
        "    \"\"\"\n",
        "\n",
        "    def get_action(obs):\n",
        "        if not algorithm:\n",
        "            return env.action_space.sample()\n",
        "        else:\n",
        "            return algorithm.select_action(obs)\n",
        "\n",
        "    if USING_COLAB:\n",
        "        from renderlab import RenderFrame\n",
        "\n",
        "        directory = './video'\n",
        "        env_args['render_mode'] = 'rgb_array'\n",
        "        env = gym.make(env_name, **env_args)\n",
        "        env = RenderFrame(env, directory)\n",
        "        obs, info = env.reset()\n",
        "\n",
        "        for i in range(200):\n",
        "            action = get_action(obs)\n",
        "            obs, reward, done, truncate, info = env.step(action)\n",
        "\n",
        "            if done:\n",
        "                break\n",
        "\n",
        "        env.play()\n",
        "    else:\n",
        "        import cv2\n",
        "\n",
        "        video = cv2.VideoWriter(f\"{video_name}.mp4\", cv2.VideoWriter_fourcc(*'mp4v'), 24, (600,400))\n",
        "\n",
        "        env_args['render_mode'] = 'rgb_array'\n",
        "        env = gym.make(env_name, **env_args)\n",
        "        obs, info = env.reset()\n",
        "\n",
        "        for i in range(500):\n",
        "            action = get_action(obs)\n",
        "            res = env.step(action)\n",
        "            obs, reward, done, truncate, info = res\n",
        "\n",
        "            if done:\n",
        "                break\n",
        "\n",
        "            im = env.render()\n",
        "            im = im[:,:,::-1]\n",
        "\n",
        "            video.write(im)\n",
        "\n",
        "        video.release()\n",
        "        env.close()\n",
        "        print(f\"Video saved as {video_name}.mp4\")"
      ]
    },
    {
      "cell_type": "code",
      "execution_count": 48,
      "metadata": {
        "colab": {
          "base_uri": "https://localhost:8080/",
          "height": 612
        },
        "id": "q-HpT--_cG4-",
        "outputId": "641f4a4b-ef35-4483-878f-2f3cc59e296b"
      },
      "outputs": [
        {
          "output_type": "stream",
          "name": "stderr",
          "text": [
            "\r  0%|          | 0/3 [00:00<?, ?it/s]WARNING:py.warnings:/usr/local/lib/python3.10/dist-packages/moviepy/video/io/ffmpeg_reader.py:123: UserWarning: Warning: in file ./video/1734113613.808223.mp4, 900000 bytes wanted but 0 bytes read,at frame 2/3, at time 0.07/0.07 sec. Using the last valid frame instead.\n",
            "  warnings.warn(\"Warning: in file %s, \"%(self.filename)+\n",
            "\n",
            "100%|██████████| 3/3 [00:00<00:00, 109.69it/s]\n"
          ]
        },
        {
          "output_type": "display_data",
          "data": {
            "text/plain": [
              "<IPython.core.display.Video object>"
            ],
            "text/html": [
              "<video controls  >\n",
              " <source src=\"data:video/mp4;base64,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\" type=\"video/mp4\">\n",
              " Your browser does not support the video tag.\n",
              " </video>"
            ]
          },
          "metadata": {}
        }
      ],
      "source": [
        "visualize()"
      ]
    },
    {
      "cell_type": "code",
      "execution_count": 49,
      "metadata": {
        "id": "Dih-YDyYfWRO"
      },
      "outputs": [],
      "source": [
        "def evaluate_policy(actor, environment, num_episodes=100, progress=True):\n",
        "    '''\n",
        "        Returns the mean trajectory reward of rolling out `actor` on `environment\n",
        "\n",
        "        Parameters\n",
        "        - actor: PPOActor instance, defined in Part 1\n",
        "        - environment: classstable_baselines3.common.vec_env.VecEnv instance\n",
        "        - num_episodes: total number of trajectories to collect and average over\n",
        "    '''\n",
        "    total_rew = 0\n",
        "\n",
        "    iterate = (trange(num_episodes) if progress else range(num_episodes))\n",
        "    for _ in iterate:\n",
        "        obs = environment.reset()\n",
        "        done = False\n",
        "\n",
        "        while not done:\n",
        "            action = actor.select_action(obs)\n",
        "\n",
        "            next_obs, reward, done, info = environment.step(action)\n",
        "            total_rew += reward\n",
        "\n",
        "            obs = next_obs\n",
        "\n",
        "    return (total_rew / num_episodes).item()"
      ]
    },
    {
      "cell_type": "code",
      "execution_count": 61,
      "metadata": {
        "id": "UXGB4vffft6o"
      },
      "outputs": [],
      "source": [
        "from stable_baselines3 import PPO\n",
        "from stable_baselines3.common.callbacks import BaseCallback\n",
        "from stable_baselines3.common.vec_env.base_vec_env import VecEnv\n",
        "\n",
        "hyperparameters = {\n",
        "    \"n_steps\": 10000,\n",
        "    \"batch_size\": 128,\n",
        "    \"policy_kwargs\": {\n",
        "        \"net_arch\": {\n",
        "            \"pi\": [32, 64, 32],\n",
        "            \"vf\": [32, 64, 32],\n",
        "            \"activation_fn\": \"tanh\",\n",
        "        }\n",
        "    },\n",
        "}"
      ]
    },
    {
      "cell_type": "code",
      "execution_count": 51,
      "metadata": {
        "id": "JMuyiAafDB4r"
      },
      "outputs": [],
      "source": [
        "class BlackjackWrapper(gym.ObservationWrapper):\n",
        "    def __init__(self, env):\n",
        "        super(BlackjackWrapper, self).__init__(env)\n",
        "        self.observation_space = gym.spaces.Box(low=0, high=1, shape=(3,), dtype=np.float32)\n",
        "\n",
        "    def observation(self, observation):\n",
        "        return np.array(observation, dtype=np.float32) / np.array([32, 11, 2], dtype=np.float32)"
      ]
    },
    {
      "cell_type": "code",
      "execution_count": 52,
      "metadata": {
        "id": "pIely_aW2xiw"
      },
      "outputs": [],
      "source": [
        "def make_env():\n",
        "    env = gym.make(\"Blackjack-v1\")\n",
        "    # print(isinstance(env.observation_space, spaces.Box))\n",
        "    return BlackjackWrapper(env)\n",
        "\n",
        "# input_shape = len(env.observation_space)\n",
        "# # env.observation_space = torch.tensor((float(env.observation_space[0]), float(env.observation_space[1]), float(env.observation_space[2])))\n",
        "# num_actions = env.action_space.n\n",
        "# print(input_shape)\n",
        "# print(num_actions)"
      ]
    },
    {
      "cell_type": "code",
      "execution_count": 53,
      "metadata": {
        "id": "38u8zj0mfzjc"
      },
      "outputs": [],
      "source": [
        "from stable_baselines3.common.env_util import make_vec_env\n",
        "\n",
        "real_vec_env_3 = make_vec_env(make_env, n_envs=3)\n",
        "real_vec_env_1 = make_vec_env(make_env, n_envs=1)"
      ]
    },
    {
      "cell_type": "code",
      "execution_count": 54,
      "metadata": {
        "id": "pDanGi_Uf960"
      },
      "outputs": [],
      "source": [
        "class PPOActor():\n",
        "    def __init__(self, ckpt: str=None, environment: VecEnv=None, model=None):\n",
        "        '''\n",
        "          Requires environment to be a 1-vectorized environment\n",
        "\n",
        "          The `ckpt` is a .zip file path that leads to the checkpoint you want\n",
        "          to use for this particular actor.\n",
        "\n",
        "          If the `model` variable is provided, then this constructor will store\n",
        "          that as the internal representing model instead of loading one from the\n",
        "          checkpoint path\n",
        "\n",
        "        '''\n",
        "        assert ckpt is not None or model is not None\n",
        "        if model is not None:\n",
        "            self.model = model\n",
        "            return\n",
        "\n",
        "        self.model = PPO(\"MlpPolicy\", real_vec_env_3, **hyperparameters)\n",
        "        self.model = PPO.load(ckpt, environment)\n",
        "\n",
        "\n",
        "    def select_action(self, obs):\n",
        "        '''\n",
        "          Gives the action prediction of this particular actor\n",
        "        '''\n",
        "        pred_act, _state = self.model.predict(obs)\n",
        "        return pred_act"
      ]
    },
    {
      "cell_type": "code",
      "execution_count": 55,
      "metadata": {
        "id": "uAZd8rkhgN9T"
      },
      "outputs": [],
      "source": [
        "class PPOCallback(BaseCallback):\n",
        "    def __init__(self, verbose=0, save_path='default', eval_env=None):\n",
        "        super(PPOCallback, self).__init__(verbose)\n",
        "        self.rewards = []\n",
        "\n",
        "        self.save_freq = 120000\n",
        "        self.min_reward = -np.inf\n",
        "        self.actor = None\n",
        "        self.eval_env = eval_env\n",
        "\n",
        "        self.save_path = save_path\n",
        "\n",
        "        self.eval_steps = []\n",
        "        self.eval_rewards = []\n",
        "\n",
        "    def _init_callback(self) -> None:\n",
        "        pass\n",
        "\n",
        "    def _on_training_start(self) -> None:\n",
        "        \"\"\"\n",
        "        This method is called before the first rollout starts.\n",
        "        \"\"\"\n",
        "\n",
        "        self.actor = PPOActor(model=self.model)\n",
        "\n",
        "    def _on_rollout_start(self) -> None:\n",
        "        \"\"\"\n",
        "        A rollout is the collection of environment interaction\n",
        "        using the current policy.\n",
        "        This event is triggered before collecting new samples.\n",
        "        \"\"\"\n",
        "        pass\n",
        "\n",
        "    def _on_rollout_end(self) -> None:\n",
        "        \"\"\"\n",
        "        This event is triggered before updating the policy.\n",
        "        \"\"\"\n",
        "\n",
        "        episode_info = self.model.ep_info_buffer\n",
        "        rewards = [ep_info['r'] for ep_info in episode_info]\n",
        "        mean_rewards = np.mean(rewards)\n",
        "\n",
        "        self.rewards.append(mean_rewards)\n",
        "\n",
        "\n",
        "    def _on_step(self) -> bool:\n",
        "        \"\"\"\n",
        "        This method will be called by the model after each call to `env.step()`.\n",
        "\n",
        "        For child callback (of an `EventCallback`), this will be called\n",
        "        when the event is triggered.\n",
        "\n",
        "        :return: If the callback returns False, training is aborted early.\n",
        "        \"\"\"\n",
        "        if self.eval_env is None:\n",
        "            return True\n",
        "\n",
        "        if self.num_timesteps % self.save_freq == 0 and self.num_timesteps != 0:\n",
        "            mean_reward = evaluate_policy(self.actor, environment=self.eval_env, num_episodes=20)\n",
        "            print(f'evaluating {self.num_timesteps=}, {mean_reward=}=======')\n",
        "\n",
        "            self.eval_steps.append(self.num_timesteps)\n",
        "            self.eval_rewards.append(mean_reward)\n",
        "            if mean_reward > self.min_reward:\n",
        "                self.min_reward = mean_reward\n",
        "                self.model.save(self.save_path)\n",
        "                print(f'model saved on eval reward: {self.min_reward}')\n",
        "\n",
        "        return True\n",
        "\n",
        "    def _on_training_end(self) -> None:\n",
        "        \"\"\"\n",
        "        This event is triggered before exiting the `learn()` method.\n",
        "        \"\"\"\n",
        "        print(f'model saved on eval reward: {self.min_reward}')\n",
        "\n",
        "        plt.plot(self.eval_steps, self.eval_rewards, c='red')\n",
        "        plt.xlabel('Episodes')\n",
        "        plt.ylabel('Rewards')\n",
        "        plt.title('Rewards over Episodes')\n",
        "\n",
        "        plt.show()\n",
        "        plt.close()"
      ]
    },
    {
      "cell_type": "code",
      "execution_count": 62,
      "metadata": {
        "colab": {
          "base_uri": "https://localhost:8080/",
          "height": 1000
        },
        "id": "GfxaRdrZQxap",
        "outputId": "f11c7cb4-143d-42fe-cb1b-03e139f562d8"
      },
      "outputs": [
        {
          "output_type": "stream",
          "name": "stderr",
          "text": [
            "100%|██████████| 20/20 [00:00<00:00, 550.87it/s]\n"
          ]
        },
        {
          "output_type": "stream",
          "name": "stdout",
          "text": [
            "evaluating self.num_timesteps=120000, mean_reward=-0.15000000596046448=======\n",
            "model saved on eval reward: -0.15000000596046448\n"
          ]
        },
        {
          "output_type": "stream",
          "name": "stderr",
          "text": [
            "100%|██████████| 20/20 [00:00<00:00, 690.17it/s]\n"
          ]
        },
        {
          "output_type": "stream",
          "name": "stdout",
          "text": [
            "evaluating self.num_timesteps=240000, mean_reward=0.4000000059604645=======\n",
            "model saved on eval reward: 0.4000000059604645\n"
          ]
        },
        {
          "output_type": "stream",
          "name": "stderr",
          "text": [
            "100%|██████████| 20/20 [00:00<00:00, 413.91it/s]\n"
          ]
        },
        {
          "output_type": "stream",
          "name": "stdout",
          "text": [
            "evaluating self.num_timesteps=360000, mean_reward=-0.30000001192092896=======\n"
          ]
        },
        {
          "output_type": "stream",
          "name": "stderr",
          "text": [
            "100%|██████████| 20/20 [00:00<00:00, 539.54it/s]\n"
          ]
        },
        {
          "output_type": "stream",
          "name": "stdout",
          "text": [
            "evaluating self.num_timesteps=480000, mean_reward=-0.05000000074505806=======\n"
          ]
        },
        {
          "output_type": "stream",
          "name": "stderr",
          "text": [
            "100%|██████████| 20/20 [00:00<00:00, 641.33it/s]\n"
          ]
        },
        {
          "output_type": "stream",
          "name": "stdout",
          "text": [
            "evaluating self.num_timesteps=600000, mean_reward=0.0=======\n"
          ]
        },
        {
          "output_type": "stream",
          "name": "stderr",
          "text": [
            "100%|██████████| 20/20 [00:00<00:00, 590.67it/s]\n"
          ]
        },
        {
          "output_type": "stream",
          "name": "stdout",
          "text": [
            "evaluating self.num_timesteps=720000, mean_reward=-0.25=======\n"
          ]
        },
        {
          "output_type": "stream",
          "name": "stderr",
          "text": [
            "100%|██████████| 20/20 [00:00<00:00, 546.06it/s]\n"
          ]
        },
        {
          "output_type": "stream",
          "name": "stdout",
          "text": [
            "evaluating self.num_timesteps=840000, mean_reward=0.0=======\n"
          ]
        },
        {
          "output_type": "stream",
          "name": "stderr",
          "text": [
            "100%|██████████| 20/20 [00:00<00:00, 564.45it/s]\n"
          ]
        },
        {
          "output_type": "stream",
          "name": "stdout",
          "text": [
            "evaluating self.num_timesteps=960000, mean_reward=0.3499999940395355=======\n"
          ]
        },
        {
          "output_type": "stream",
          "name": "stderr",
          "text": [
            "100%|██████████| 20/20 [00:00<00:00, 587.08it/s]\n"
          ]
        },
        {
          "output_type": "stream",
          "name": "stdout",
          "text": [
            "evaluating self.num_timesteps=1080000, mean_reward=0.30000001192092896=======\n"
          ]
        },
        {
          "output_type": "stream",
          "name": "stderr",
          "text": [
            "100%|██████████| 20/20 [00:00<00:00, 580.38it/s]\n"
          ]
        },
        {
          "output_type": "stream",
          "name": "stdout",
          "text": [
            "evaluating self.num_timesteps=1200000, mean_reward=0.4000000059604645=======\n"
          ]
        },
        {
          "output_type": "stream",
          "name": "stderr",
          "text": [
            "100%|██████████| 20/20 [00:00<00:00, 588.08it/s]\n"
          ]
        },
        {
          "output_type": "stream",
          "name": "stdout",
          "text": [
            "evaluating self.num_timesteps=1320000, mean_reward=-0.44999998807907104=======\n"
          ]
        },
        {
          "output_type": "stream",
          "name": "stderr",
          "text": [
            "100%|██████████| 20/20 [00:00<00:00, 637.17it/s]\n"
          ]
        },
        {
          "output_type": "stream",
          "name": "stdout",
          "text": [
            "evaluating self.num_timesteps=1440000, mean_reward=0.15000000596046448=======\n"
          ]
        },
        {
          "output_type": "stream",
          "name": "stderr",
          "text": [
            "100%|██████████| 20/20 [00:00<00:00, 583.45it/s]\n"
          ]
        },
        {
          "output_type": "stream",
          "name": "stdout",
          "text": [
            "evaluating self.num_timesteps=1560000, mean_reward=0.20000000298023224=======\n"
          ]
        },
        {
          "output_type": "stream",
          "name": "stderr",
          "text": [
            "100%|██████████| 20/20 [00:00<00:00, 492.85it/s]\n"
          ]
        },
        {
          "output_type": "stream",
          "name": "stdout",
          "text": [
            "evaluating self.num_timesteps=1680000, mean_reward=-0.3499999940395355=======\n"
          ]
        },
        {
          "output_type": "stream",
          "name": "stderr",
          "text": [
            "100%|██████████| 20/20 [00:00<00:00, 552.05it/s]\n"
          ]
        },
        {
          "output_type": "stream",
          "name": "stdout",
          "text": [
            "evaluating self.num_timesteps=1800000, mean_reward=0.0=======\n"
          ]
        },
        {
          "output_type": "stream",
          "name": "stderr",
          "text": [
            "100%|██████████| 20/20 [00:00<00:00, 601.36it/s]\n"
          ]
        },
        {
          "output_type": "stream",
          "name": "stdout",
          "text": [
            "evaluating self.num_timesteps=1920000, mean_reward=-0.20000000298023224=======\n"
          ]
        },
        {
          "output_type": "stream",
          "name": "stderr",
          "text": [
            "100%|██████████| 20/20 [00:00<00:00, 574.22it/s]\n"
          ]
        },
        {
          "output_type": "stream",
          "name": "stdout",
          "text": [
            "evaluating self.num_timesteps=2040000, mean_reward=-0.05000000074505806=======\n"
          ]
        },
        {
          "output_type": "stream",
          "name": "stderr",
          "text": [
            "100%|██████████| 20/20 [00:00<00:00, 586.68it/s]\n"
          ]
        },
        {
          "output_type": "stream",
          "name": "stdout",
          "text": [
            "evaluating self.num_timesteps=2160000, mean_reward=-0.25=======\n"
          ]
        },
        {
          "output_type": "stream",
          "name": "stderr",
          "text": [
            "100%|██████████| 20/20 [00:00<00:00, 533.86it/s]\n"
          ]
        },
        {
          "output_type": "stream",
          "name": "stdout",
          "text": [
            "evaluating self.num_timesteps=2280000, mean_reward=-0.10000000149011612=======\n"
          ]
        },
        {
          "output_type": "stream",
          "name": "stderr",
          "text": [
            "100%|██████████| 20/20 [00:00<00:00, 502.19it/s]\n"
          ]
        },
        {
          "output_type": "stream",
          "name": "stdout",
          "text": [
            "evaluating self.num_timesteps=2400000, mean_reward=0.05000000074505806=======\n"
          ]
        },
        {
          "output_type": "stream",
          "name": "stderr",
          "text": [
            "100%|██████████| 20/20 [00:00<00:00, 518.81it/s]\n"
          ]
        },
        {
          "output_type": "stream",
          "name": "stdout",
          "text": [
            "evaluating self.num_timesteps=2520000, mean_reward=0.10000000149011612=======\n"
          ]
        },
        {
          "output_type": "stream",
          "name": "stderr",
          "text": [
            "100%|██████████| 20/20 [00:00<00:00, 716.04it/s]\n"
          ]
        },
        {
          "output_type": "stream",
          "name": "stdout",
          "text": [
            "evaluating self.num_timesteps=2640000, mean_reward=-0.3499999940395355=======\n"
          ]
        },
        {
          "output_type": "stream",
          "name": "stderr",
          "text": [
            "100%|██████████| 20/20 [00:00<00:00, 605.20it/s]\n"
          ]
        },
        {
          "output_type": "stream",
          "name": "stdout",
          "text": [
            "evaluating self.num_timesteps=2760000, mean_reward=-0.30000001192092896=======\n"
          ]
        },
        {
          "output_type": "stream",
          "name": "stderr",
          "text": [
            "100%|██████████| 20/20 [00:00<00:00, 677.19it/s]\n"
          ]
        },
        {
          "output_type": "stream",
          "name": "stdout",
          "text": [
            "evaluating self.num_timesteps=2880000, mean_reward=-0.30000001192092896=======\n"
          ]
        },
        {
          "output_type": "stream",
          "name": "stderr",
          "text": [
            "100%|██████████| 20/20 [00:00<00:00, 655.21it/s]\n"
          ]
        },
        {
          "output_type": "stream",
          "name": "stdout",
          "text": [
            "evaluating self.num_timesteps=3000000, mean_reward=-0.15000000596046448=======\n"
          ]
        },
        {
          "output_type": "stream",
          "name": "stderr",
          "text": [
            "100%|██████████| 20/20 [00:00<00:00, 525.14it/s]\n"
          ]
        },
        {
          "output_type": "stream",
          "name": "stdout",
          "text": [
            "evaluating self.num_timesteps=3120000, mean_reward=0.05000000074505806=======\n"
          ]
        },
        {
          "output_type": "stream",
          "name": "stderr",
          "text": [
            "100%|██████████| 20/20 [00:00<00:00, 632.47it/s]\n"
          ]
        },
        {
          "output_type": "stream",
          "name": "stdout",
          "text": [
            "evaluating self.num_timesteps=3240000, mean_reward=-0.3499999940395355=======\n"
          ]
        },
        {
          "output_type": "stream",
          "name": "stderr",
          "text": [
            "100%|██████████| 20/20 [00:00<00:00, 663.14it/s]\n"
          ]
        },
        {
          "output_type": "stream",
          "name": "stdout",
          "text": [
            "evaluating self.num_timesteps=3360000, mean_reward=0.15000000596046448=======\n"
          ]
        },
        {
          "output_type": "stream",
          "name": "stderr",
          "text": [
            "100%|██████████| 20/20 [00:00<00:00, 653.45it/s]\n"
          ]
        },
        {
          "output_type": "stream",
          "name": "stdout",
          "text": [
            "evaluating self.num_timesteps=3480000, mean_reward=-0.25=======\n"
          ]
        },
        {
          "output_type": "stream",
          "name": "stderr",
          "text": [
            "100%|██████████| 20/20 [00:00<00:00, 642.01it/s]\n"
          ]
        },
        {
          "output_type": "stream",
          "name": "stdout",
          "text": [
            "evaluating self.num_timesteps=3600000, mean_reward=0.25=======\n"
          ]
        },
        {
          "output_type": "stream",
          "name": "stderr",
          "text": [
            "100%|██████████| 20/20 [00:00<00:00, 654.56it/s]\n"
          ]
        },
        {
          "output_type": "stream",
          "name": "stdout",
          "text": [
            "evaluating self.num_timesteps=3720000, mean_reward=0.0=======\n"
          ]
        },
        {
          "output_type": "stream",
          "name": "stderr",
          "text": [
            "100%|██████████| 20/20 [00:00<00:00, 575.67it/s]\n"
          ]
        },
        {
          "output_type": "stream",
          "name": "stdout",
          "text": [
            "evaluating self.num_timesteps=3840000, mean_reward=-0.20000000298023224=======\n"
          ]
        },
        {
          "output_type": "stream",
          "name": "stderr",
          "text": [
            "100%|██████████| 20/20 [00:00<00:00, 613.14it/s]\n"
          ]
        },
        {
          "output_type": "stream",
          "name": "stdout",
          "text": [
            "evaluating self.num_timesteps=3960000, mean_reward=-0.15000000596046448=======\n"
          ]
        },
        {
          "output_type": "stream",
          "name": "stderr",
          "text": [
            "100%|██████████| 20/20 [00:00<00:00, 521.11it/s]\n"
          ]
        },
        {
          "output_type": "stream",
          "name": "stdout",
          "text": [
            "evaluating self.num_timesteps=4080000, mean_reward=-0.25=======\n"
          ]
        },
        {
          "output_type": "stream",
          "name": "stderr",
          "text": [
            "100%|██████████| 20/20 [00:00<00:00, 656.65it/s]\n"
          ]
        },
        {
          "output_type": "stream",
          "name": "stdout",
          "text": [
            "evaluating self.num_timesteps=4200000, mean_reward=-0.20000000298023224=======\n"
          ]
        },
        {
          "output_type": "stream",
          "name": "stderr",
          "text": [
            "100%|██████████| 20/20 [00:00<00:00, 504.35it/s]\n"
          ]
        },
        {
          "output_type": "stream",
          "name": "stdout",
          "text": [
            "evaluating self.num_timesteps=4320000, mean_reward=-0.30000001192092896=======\n"
          ]
        },
        {
          "output_type": "stream",
          "name": "stderr",
          "text": [
            "100%|██████████| 20/20 [00:00<00:00, 616.36it/s]\n"
          ]
        },
        {
          "output_type": "stream",
          "name": "stdout",
          "text": [
            "evaluating self.num_timesteps=4440000, mean_reward=-0.44999998807907104=======\n"
          ]
        },
        {
          "output_type": "stream",
          "name": "stderr",
          "text": [
            "100%|██████████| 20/20 [00:00<00:00, 614.29it/s]\n"
          ]
        },
        {
          "output_type": "stream",
          "name": "stdout",
          "text": [
            "evaluating self.num_timesteps=4560000, mean_reward=0.15000000596046448=======\n"
          ]
        },
        {
          "output_type": "stream",
          "name": "stderr",
          "text": [
            "100%|██████████| 20/20 [00:00<00:00, 607.78it/s]\n"
          ]
        },
        {
          "output_type": "stream",
          "name": "stdout",
          "text": [
            "evaluating self.num_timesteps=4680000, mean_reward=0.05000000074505806=======\n"
          ]
        },
        {
          "output_type": "stream",
          "name": "stderr",
          "text": [
            "100%|██████████| 20/20 [00:00<00:00, 422.88it/s]\n"
          ]
        },
        {
          "output_type": "stream",
          "name": "stdout",
          "text": [
            "evaluating self.num_timesteps=4800000, mean_reward=0.10000000149011612=======\n"
          ]
        },
        {
          "output_type": "stream",
          "name": "stderr",
          "text": [
            "100%|██████████| 20/20 [00:00<00:00, 614.13it/s]\n"
          ]
        },
        {
          "output_type": "stream",
          "name": "stdout",
          "text": [
            "evaluating self.num_timesteps=4920000, mean_reward=0.20000000298023224=======\n"
          ]
        },
        {
          "output_type": "stream",
          "name": "stderr",
          "text": [
            "100%|██████████| 20/20 [00:00<00:00, 640.92it/s]\n"
          ]
        },
        {
          "output_type": "stream",
          "name": "stdout",
          "text": [
            "evaluating self.num_timesteps=5040000, mean_reward=0.25=======\n"
          ]
        },
        {
          "output_type": "stream",
          "name": "stderr",
          "text": [
            "100%|██████████| 20/20 [00:00<00:00, 553.46it/s]\n"
          ]
        },
        {
          "output_type": "stream",
          "name": "stdout",
          "text": [
            "evaluating self.num_timesteps=5160000, mean_reward=0.25=======\n"
          ]
        },
        {
          "output_type": "stream",
          "name": "stderr",
          "text": [
            "100%|██████████| 20/20 [00:00<00:00, 483.56it/s]\n"
          ]
        },
        {
          "output_type": "stream",
          "name": "stdout",
          "text": [
            "evaluating self.num_timesteps=5280000, mean_reward=-0.44999998807907104=======\n"
          ]
        },
        {
          "output_type": "stream",
          "name": "stderr",
          "text": [
            "100%|██████████| 20/20 [00:00<00:00, 631.95it/s]\n"
          ]
        },
        {
          "output_type": "stream",
          "name": "stdout",
          "text": [
            "evaluating self.num_timesteps=5400000, mean_reward=-0.30000001192092896=======\n"
          ]
        },
        {
          "output_type": "stream",
          "name": "stderr",
          "text": [
            "100%|██████████| 20/20 [00:00<00:00, 624.84it/s]\n"
          ]
        },
        {
          "output_type": "stream",
          "name": "stdout",
          "text": [
            "evaluating self.num_timesteps=5520000, mean_reward=0.20000000298023224=======\n"
          ]
        },
        {
          "output_type": "stream",
          "name": "stderr",
          "text": [
            "100%|██████████| 20/20 [00:00<00:00, 451.88it/s]\n"
          ]
        },
        {
          "output_type": "stream",
          "name": "stdout",
          "text": [
            "evaluating self.num_timesteps=5640000, mean_reward=-0.3499999940395355=======\n"
          ]
        },
        {
          "output_type": "stream",
          "name": "stderr",
          "text": [
            "100%|██████████| 20/20 [00:00<00:00, 580.94it/s]\n"
          ]
        },
        {
          "output_type": "stream",
          "name": "stdout",
          "text": [
            "evaluating self.num_timesteps=5760000, mean_reward=-0.30000001192092896=======\n"
          ]
        },
        {
          "output_type": "stream",
          "name": "stderr",
          "text": [
            "100%|██████████| 20/20 [00:00<00:00, 623.55it/s]\n"
          ]
        },
        {
          "output_type": "stream",
          "name": "stdout",
          "text": [
            "evaluating self.num_timesteps=5880000, mean_reward=0.0=======\n"
          ]
        },
        {
          "output_type": "stream",
          "name": "stderr",
          "text": [
            "100%|██████████| 20/20 [00:00<00:00, 577.88it/s]\n"
          ]
        },
        {
          "output_type": "stream",
          "name": "stdout",
          "text": [
            "evaluating self.num_timesteps=6000000, mean_reward=0.25=======\n"
          ]
        },
        {
          "output_type": "stream",
          "name": "stderr",
          "text": [
            "100%|██████████| 20/20 [00:00<00:00, 589.83it/s]\n"
          ]
        },
        {
          "output_type": "stream",
          "name": "stdout",
          "text": [
            "evaluating self.num_timesteps=6120000, mean_reward=0.25=======\n"
          ]
        },
        {
          "output_type": "stream",
          "name": "stderr",
          "text": [
            "100%|██████████| 20/20 [00:00<00:00, 601.94it/s]\n"
          ]
        },
        {
          "output_type": "stream",
          "name": "stdout",
          "text": [
            "evaluating self.num_timesteps=6240000, mean_reward=0.10000000149011612=======\n"
          ]
        },
        {
          "output_type": "stream",
          "name": "stderr",
          "text": [
            "100%|██████████| 20/20 [00:00<00:00, 597.85it/s]\n"
          ]
        },
        {
          "output_type": "stream",
          "name": "stdout",
          "text": [
            "evaluating self.num_timesteps=6360000, mean_reward=0.0=======\n"
          ]
        },
        {
          "output_type": "stream",
          "name": "stderr",
          "text": [
            "100%|██████████| 20/20 [00:00<00:00, 584.89it/s]\n"
          ]
        },
        {
          "output_type": "stream",
          "name": "stdout",
          "text": [
            "evaluating self.num_timesteps=6480000, mean_reward=0.20000000298023224=======\n"
          ]
        },
        {
          "output_type": "stream",
          "name": "stderr",
          "text": [
            "100%|██████████| 20/20 [00:00<00:00, 618.96it/s]\n"
          ]
        },
        {
          "output_type": "stream",
          "name": "stdout",
          "text": [
            "evaluating self.num_timesteps=6600000, mean_reward=0.25=======\n"
          ]
        },
        {
          "output_type": "stream",
          "name": "stderr",
          "text": [
            "100%|██████████| 20/20 [00:00<00:00, 683.60it/s]\n"
          ]
        },
        {
          "output_type": "stream",
          "name": "stdout",
          "text": [
            "evaluating self.num_timesteps=6720000, mean_reward=0.05000000074505806=======\n"
          ]
        },
        {
          "output_type": "stream",
          "name": "stderr",
          "text": [
            "100%|██████████| 20/20 [00:00<00:00, 531.01it/s]\n"
          ]
        },
        {
          "output_type": "stream",
          "name": "stdout",
          "text": [
            "evaluating self.num_timesteps=6840000, mean_reward=0.10000000149011612=======\n"
          ]
        },
        {
          "output_type": "stream",
          "name": "stderr",
          "text": [
            "100%|██████████| 20/20 [00:00<00:00, 619.40it/s]\n"
          ]
        },
        {
          "output_type": "stream",
          "name": "stdout",
          "text": [
            "evaluating self.num_timesteps=6960000, mean_reward=-0.30000001192092896=======\n"
          ]
        },
        {
          "output_type": "stream",
          "name": "stderr",
          "text": [
            "100%|██████████| 20/20 [00:00<00:00, 530.72it/s]\n"
          ]
        },
        {
          "output_type": "stream",
          "name": "stdout",
          "text": [
            "evaluating self.num_timesteps=7080000, mean_reward=0.0=======\n"
          ]
        },
        {
          "output_type": "stream",
          "name": "stderr",
          "text": [
            "100%|██████████| 20/20 [00:00<00:00, 661.57it/s]\n"
          ]
        },
        {
          "output_type": "stream",
          "name": "stdout",
          "text": [
            "evaluating self.num_timesteps=7200000, mean_reward=0.10000000149011612=======\n"
          ]
        },
        {
          "output_type": "stream",
          "name": "stderr",
          "text": [
            "100%|██████████| 20/20 [00:00<00:00, 491.29it/s]\n"
          ]
        },
        {
          "output_type": "stream",
          "name": "stdout",
          "text": [
            "evaluating self.num_timesteps=7320000, mean_reward=-0.15000000596046448=======\n"
          ]
        },
        {
          "output_type": "stream",
          "name": "stderr",
          "text": [
            "100%|██████████| 20/20 [00:00<00:00, 543.26it/s]\n"
          ]
        },
        {
          "output_type": "stream",
          "name": "stdout",
          "text": [
            "evaluating self.num_timesteps=7440000, mean_reward=0.15000000596046448=======\n"
          ]
        },
        {
          "output_type": "stream",
          "name": "stderr",
          "text": [
            "100%|██████████| 20/20 [00:00<00:00, 529.96it/s]\n"
          ]
        },
        {
          "output_type": "stream",
          "name": "stdout",
          "text": [
            "evaluating self.num_timesteps=7560000, mean_reward=0.25=======\n"
          ]
        },
        {
          "output_type": "stream",
          "name": "stderr",
          "text": [
            "100%|██████████| 20/20 [00:00<00:00, 572.77it/s]\n"
          ]
        },
        {
          "output_type": "stream",
          "name": "stdout",
          "text": [
            "evaluating self.num_timesteps=7680000, mean_reward=-0.05000000074505806=======\n"
          ]
        },
        {
          "output_type": "stream",
          "name": "stderr",
          "text": [
            "100%|██████████| 20/20 [00:00<00:00, 499.55it/s]\n"
          ]
        },
        {
          "output_type": "stream",
          "name": "stdout",
          "text": [
            "evaluating self.num_timesteps=7800000, mean_reward=-0.05000000074505806=======\n"
          ]
        },
        {
          "output_type": "stream",
          "name": "stderr",
          "text": [
            "100%|██████████| 20/20 [00:00<00:00, 671.24it/s]\n"
          ]
        },
        {
          "output_type": "stream",
          "name": "stdout",
          "text": [
            "evaluating self.num_timesteps=7920000, mean_reward=-0.25=======\n"
          ]
        },
        {
          "output_type": "stream",
          "name": "stderr",
          "text": [
            "100%|██████████| 20/20 [00:00<00:00, 650.84it/s]\n"
          ]
        },
        {
          "output_type": "stream",
          "name": "stdout",
          "text": [
            "evaluating self.num_timesteps=8040000, mean_reward=0.10000000149011612=======\n"
          ]
        },
        {
          "output_type": "stream",
          "name": "stderr",
          "text": [
            "100%|██████████| 20/20 [00:00<00:00, 439.89it/s]\n"
          ]
        },
        {
          "output_type": "stream",
          "name": "stdout",
          "text": [
            "evaluating self.num_timesteps=8160000, mean_reward=-0.05000000074505806=======\n"
          ]
        },
        {
          "output_type": "stream",
          "name": "stderr",
          "text": [
            "100%|██████████| 20/20 [00:00<00:00, 589.70it/s]\n"
          ]
        },
        {
          "output_type": "stream",
          "name": "stdout",
          "text": [
            "evaluating self.num_timesteps=8280000, mean_reward=-0.15000000596046448=======\n"
          ]
        },
        {
          "output_type": "stream",
          "name": "stderr",
          "text": [
            "100%|██████████| 20/20 [00:00<00:00, 530.04it/s]\n"
          ]
        },
        {
          "output_type": "stream",
          "name": "stdout",
          "text": [
            "evaluating self.num_timesteps=8400000, mean_reward=0.05000000074505806=======\n"
          ]
        },
        {
          "output_type": "stream",
          "name": "stderr",
          "text": [
            "100%|██████████| 20/20 [00:00<00:00, 666.30it/s]\n"
          ]
        },
        {
          "output_type": "stream",
          "name": "stdout",
          "text": [
            "evaluating self.num_timesteps=8520000, mean_reward=-0.05000000074505806=======\n"
          ]
        },
        {
          "output_type": "stream",
          "name": "stderr",
          "text": [
            "100%|██████████| 20/20 [00:00<00:00, 659.87it/s]\n"
          ]
        },
        {
          "output_type": "stream",
          "name": "stdout",
          "text": [
            "evaluating self.num_timesteps=8640000, mean_reward=-0.05000000074505806=======\n"
          ]
        },
        {
          "output_type": "stream",
          "name": "stderr",
          "text": [
            "100%|██████████| 20/20 [00:00<00:00, 613.35it/s]\n"
          ]
        },
        {
          "output_type": "stream",
          "name": "stdout",
          "text": [
            "evaluating self.num_timesteps=8760000, mean_reward=-0.15000000596046448=======\n"
          ]
        },
        {
          "output_type": "stream",
          "name": "stderr",
          "text": [
            "100%|██████████| 20/20 [00:00<00:00, 600.25it/s]\n"
          ]
        },
        {
          "output_type": "stream",
          "name": "stdout",
          "text": [
            "evaluating self.num_timesteps=8880000, mean_reward=0.15000000596046448=======\n"
          ]
        },
        {
          "output_type": "stream",
          "name": "stderr",
          "text": [
            "100%|██████████| 20/20 [00:00<00:00, 459.65it/s]\n"
          ]
        },
        {
          "output_type": "stream",
          "name": "stdout",
          "text": [
            "evaluating self.num_timesteps=9000000, mean_reward=0.10000000149011612=======\n"
          ]
        },
        {
          "output_type": "stream",
          "name": "stderr",
          "text": [
            "100%|██████████| 20/20 [00:00<00:00, 651.54it/s]\n"
          ]
        },
        {
          "output_type": "stream",
          "name": "stdout",
          "text": [
            "evaluating self.num_timesteps=9120000, mean_reward=0.0=======\n"
          ]
        },
        {
          "output_type": "stream",
          "name": "stderr",
          "text": [
            "100%|██████████| 20/20 [00:00<00:00, 579.49it/s]\n"
          ]
        },
        {
          "output_type": "stream",
          "name": "stdout",
          "text": [
            "evaluating self.num_timesteps=9240000, mean_reward=-0.05000000074505806=======\n"
          ]
        },
        {
          "output_type": "stream",
          "name": "stderr",
          "text": [
            "100%|██████████| 20/20 [00:00<00:00, 528.90it/s]\n"
          ]
        },
        {
          "output_type": "stream",
          "name": "stdout",
          "text": [
            "evaluating self.num_timesteps=9360000, mean_reward=-0.20000000298023224=======\n"
          ]
        },
        {
          "output_type": "stream",
          "name": "stderr",
          "text": [
            "100%|██████████| 20/20 [00:00<00:00, 545.64it/s]\n"
          ]
        },
        {
          "output_type": "stream",
          "name": "stdout",
          "text": [
            "evaluating self.num_timesteps=9480000, mean_reward=0.0=======\n"
          ]
        },
        {
          "output_type": "stream",
          "name": "stderr",
          "text": [
            "100%|██████████| 20/20 [00:00<00:00, 584.47it/s]\n"
          ]
        },
        {
          "output_type": "stream",
          "name": "stdout",
          "text": [
            "evaluating self.num_timesteps=9600000, mean_reward=0.15000000596046448=======\n"
          ]
        },
        {
          "output_type": "stream",
          "name": "stderr",
          "text": [
            "100%|██████████| 20/20 [00:00<00:00, 378.43it/s]\n"
          ]
        },
        {
          "output_type": "stream",
          "name": "stdout",
          "text": [
            "evaluating self.num_timesteps=9720000, mean_reward=0.30000001192092896=======\n"
          ]
        },
        {
          "output_type": "stream",
          "name": "stderr",
          "text": [
            "100%|██████████| 20/20 [00:00<00:00, 639.51it/s]\n"
          ]
        },
        {
          "output_type": "stream",
          "name": "stdout",
          "text": [
            "evaluating self.num_timesteps=9840000, mean_reward=0.20000000298023224=======\n"
          ]
        },
        {
          "output_type": "stream",
          "name": "stderr",
          "text": [
            "100%|██████████| 20/20 [00:00<00:00, 633.13it/s]\n"
          ]
        },
        {
          "output_type": "stream",
          "name": "stdout",
          "text": [
            "evaluating self.num_timesteps=9960000, mean_reward=0.05000000074505806=======\n",
            "model saved on eval reward: 0.4000000059604645\n"
          ]
        },
        {
          "output_type": "display_data",
          "data": {
            "text/plain": [
              "<Figure size 640x480 with 1 Axes>"
            ],
            "image/png": "[encoded data removed]"
          },
          "metadata": {}
        },
        {
          "output_type": "execute_result",
          "data": {
            "text/plain": [
              "<stable_baselines3.ppo.ppo.PPO at 0x787237d4e710>"
            ]
          },
          "metadata": {},
          "execution_count": 62
        }
      ],
      "source": [
        "ckpt_path = 'expert'\n",
        "total_steps = 10000000\n",
        "\n",
        "reseed(seed)\n",
        "expert_callback = PPOCallback(save_path=ckpt_path, eval_env=real_vec_env_1)\n",
        "\n",
        "model = PPO(\"MlpPolicy\", real_vec_env_3, **hyperparameters)\n",
        "model.learn(total_timesteps=total_steps, callback=expert_callback)"
      ]
    },
    {
      "cell_type": "code",
      "execution_count": 63,
      "metadata": {
        "colab": {
          "base_uri": "https://localhost:8080/"
        },
        "id": "KGPknw5WQ0My",
        "outputId": "9d6c763f-150f-4584-df99-e17e2b638393"
      },
      "outputs": [
        {
          "output_type": "stream",
          "name": "stderr",
          "text": [
            "100%|██████████| 100/100 [00:00<00:00, 600.93it/s]\n"
          ]
        },
        {
          "output_type": "execute_result",
          "data": {
            "text/plain": [
              "0.019999999552965164"
            ]
          },
          "metadata": {},
          "execution_count": 63
        }
      ],
      "source": [
        "expert = PPOActor(ckpt_path, real_vec_env_1, model)\n",
        "evaluate_policy(expert, real_vec_env_1)"
      ]
    },
    {
      "cell_type": "code",
      "execution_count": 64,
      "metadata": {
        "colab": {
          "base_uri": "https://localhost:8080/",
          "height": 612
        },
        "id": "GGZOx4DlQ7mJ",
        "outputId": "d3b17d8c-e618-4c24-dcd2-811f87275ae9"
      },
      "outputs": [
        {
          "output_type": "stream",
          "name": "stderr",
          "text": [
            "\r  0%|          | 0/3 [00:00<?, ?it/s]WARNING:py.warnings:/usr/local/lib/python3.10/dist-packages/moviepy/video/io/ffmpeg_reader.py:123: UserWarning: Warning: in file ./video/1734125130.9860256.mp4, 900000 bytes wanted but 0 bytes read,at frame 2/3, at time 0.07/0.07 sec. Using the last valid frame instead.\n",
            "  warnings.warn(\"Warning: in file %s, \"%(self.filename)+\n",
            "\n",
            "100%|██████████| 3/3 [00:00<00:00, 126.42it/s]\n"
          ]
        },
        {
          "output_type": "display_data",
          "data": {
            "text/plain": [
              "<IPython.core.display.Video object>"
            ],
            "text/html": [
              "<video controls  >\n",
              " <source src=\"data:video/mp4;base64,AAAAIGZ0eXBpc29tAAACAGlzb21pc28yYXZjMW1wNDEAAAAIZnJlZQAAINptZGF0AAACrQYF//+p3EXpvebZSLeWLNgg2SPu73gyNjQgLSBjb3JlIDE0OCByMzMzIDkwYTYxZWMgLSBILjI2NC9NUEVHLTQgQVZDIGNvZGVjIC0gQ29weWxlZnQgMjAwMy0yMDE3IC0gaHR0cDovL3d3dy52aWRlb2xhbi5vcmcveDI2NC5odG1sIC0gb3B0aW9uczogY2FiYWM9MSByZWY9MyBkZWJsb2NrPTE6MDowIGFuYWx5c2U9MHgzOjB4MTEzIG1lPWhleCBzdWJtZT03IHBzeT0xIHBzeV9yZD0xLjAwOjAuMDAgbWl4ZWRfcmVmPTEgbWVfcmFuZ2U9MTYgY2hyb21hX21lPTEgdHJlbGxpcz0xIDh4OGRjdD0xIGNxbT0wIGRlYWR6b25lPTIxLDExIGZhc3RfcHNraXA9MSBjaHJvbWFfcXBfb2Zmc2V0PS0yIHRocmVhZHM9MyBsb29rYWhlYWRfdGhyZWFkcz0xIHNsaWNlZF90aHJlYWRzPTAgbnI9MCBkZWNpbWF0ZT0xIGludGVybGFjZWQ9MCBibHVyYXlfY29tcGF0PTAgY29uc3RyYWluZWRfaW50cmE9MCBiZnJhbWVzPTMgYl9weXJhbWlkPTIgYl9hZGFwdD0xIGJfYmlhcz0wIGRpcmVjdD0xIHdlaWdodGI9MSBvcGVuX2dvcD0wIHdlaWdodHA9MiBrZXlpbnQ9MjUwIGtleWludF9taW49MjUgc2NlbmVjdXQ9NDAgaW50cmFfcmVmcmVzaD0wIHJjX2xvb2thaGVhZD00MCByYz1jcmYgbWJ0cmVlPTEgY3JmPTIzLjAgcWNvbXA9MC42MCBxcG1pbj0wIHFwbWF4PTY5IHFwc3RlcD00IGlwX3JhdGlvPTEuNDAgYXE9MToxLjAwAIAAAB0qZYiEACv//tjn8yyZtbqrzFKl2KpcOrL3cKlA0ZQztPJepmAAAAMAAAMAADRrfHsQAy09kyFOYKbvpaEemfhmecNFsiDv02rjzUsHN1cuMkYKIdD717/sib8xftSOYQvkQnGz6+QSTjDUUfRyTFAa6zN/A/7gV/WXkXoxPFskUyTPqvxcMEowgDsRnpLulfdtMUlRIj6/0vcEzz4XlnYs8zNlqS6/hu4k3cMBN132SJpQzX4dVMGUe4hPBFLq+uK5oxEWwQAzymqBc22O1x2316RzzD1+rjb6Vx1WBTHWg6yWZ0g28iDh9vlzTxiovfrD4La0dgzhYMAAACan57q7VBGU9Hn1Ktv3aKge8u4QKLmD5nF8IiU9uwuTyKpt5Xdobm/PfRDBNt3pAAZrbPt9fb7CdKuo97ookEtfwKRqlEr9dIokG9zhyfOT7zRKG25WRow8Fh5TvbrwUYrtlQ8vR7PgpQ1QX8QhVE7HQE4ZMFimMqZddzwhm3d7Euzuzyf6n/x/0+fd5baQXw+11UNZVWoehv9gAXMjN0tRh7NACjM+gu+toqxR1Xh838smYEbLXEkhKpQOYzs996KF9C9C0TUxz1r19WprHIxtlVgangNoLIPaCInD74E9th8nHKwwyU+W/q5hYhgOEJL65BwI9A/vIp0PLCq1gMujFhFzh4HwTqBVTmVwZ/XzeEkEaCtxo222BKmYvY7WoJ5+7s7zUP8Fj6lDuDMvD++sP0h5EQDbm1RY+3myUrxiws+ikONBpf39vbTMav23uDDIq54d1Euq3k7OfUN4yK042XX/9+ggq8e6zBtJ4476XmLK0tExuPGb3rg+6WgjKvin45MRURj/JL3dvaw9KULFWCOKZIRrlDL5NrGUv7OVwXJQZHvFzJLVedIHed3AAAC/jmbmJZVS0SuFBQ3i9AFHJusEWQ/HIiVSnXwNUtZ+qVQmXAocC8oczC1riyZGig3wENxIQNxw2s/kFCMucviK9fQLwDW59sIM1/knucIKwtM7QhcuGg2s66AOkf1JucfVNGshdjc/dMurbUlJs/MhJwQJ4AoVjZIKLsLoEYzQy33gPzD7Kj65gIA2EreGHa+8gb5PvwGEBCGTNTHlPSlFfAfD4gyWd/2sGwAA3GNZazz/hrg/BMYAzz3xHiIo0G6gY1TL074PGhNhxbrqotAb/3gfzX8VnZKwOeG/P8Dvmou1ml4YqCJCL4D+aS52mxokspLmSuCIytKJTijmpmSXyvW2heoGjNjstPiNYHk9V48Zfeu3NUp0MP8sg6Zpfz2ilmyR2v1CqJkR9GnqlHD95+xK5lj31lneycG9uhDNr9TB864XUcI0R7PgQK5QvI6rNsrxALSaqj5FAbhilz7S0WZJkYmhcjAxu7IhNvHCSDKMrAYa3u3gEJOc9UtRGJWPw5LD4pYJXJLDSJ9Y2YpEiIodbW7q7tUlh7pHoeAYayAf6RpLR2Fohwla3vbm+O2A1nrvAT8Rmhti5ugTp97vGWPmAXz3KbfxAAADA+PZ582I7/8IALF9A3H/iP1PS/YdeE85ZJle1veDkY3J9Fd+ETiRL/wJyIhBkMmVtR+vD2o5jnVaYJ20VJd8AfybGTfeR0h6l9WqdJLkIk4mXZJ9l1vjMjFpeGLVGy1Pwe6BUOLSiGqqmgHYEt86d4waJ19WNVkz44ZvJkNNqRwouN3Uuv3ZumuRlVH+9eLITVoTjyWnDRbbP0oc4Ui3As4NaaR4Q9da5TxIujnsH+IWJLu+N3N3iFx3mus0nF4nHHhBbt84d1TdrL8Oi41EmRxrR/UNasVUdymw8LXXrJb9cyF1ph+/hW+qBtvUiz95vb56fUtENi3M8XJgTjdSjGrnD1yb1Ql7s7gAg8/GpEGp4Ilcz9wKGjI7MArTKsuQwtglgWhPv2pQK5HHQMyVBKYzMar5JWqHN7fSjOCTur8Hi7z6IvRAPu6ZmfZdPpIb604qwW3DpQ+qAMURiY8JyymloItIHjnS2q4eM6RZHcFHTXq2jKgd9HapPMdxxl91ZqLO3+56aoSL2+hZdVwJjk0furpUCJdetTVw38Shs4D16f9yk5Ldt+v7qDeyG17hf89SrGY4EgNPPHSnt+V200dvyPzCUW6H4A8kC3o+7BShmqf6DofJC5fzu4SVFZk95xuyjqUOT9pqfwkiHi4U1SuwPfwfIzpo5U8YVsCjTHErCyd9YLQ/zI0LSLP3PshxRsW6NRLZ64aVsRNuXYMU3VgnnVLPykGje90aXkOevYIqnY8+v9wy52SGY7NPBY9vPPXFi7QyhkkFqY/YSzGzcsAA5Z179LYarrPBfvCWA1LOWNAturF7P5cvcvhATLp6UB0aghwOALxUSGTdDvENuLjcroYEPysMnEoTPVlSo9sN2OR66py943wEGCmN9Jjo/5sJ6f5AIEdWQTRioHISIHIekdM6U1Du9BUKU3RzHfFkm1fdSWDbrijhbjdjn8rCjm3uuI9ELWHVZDhyqFTQ47A6kxvVa/4buaqlnGiAYB2d54wXjLeHPT/AJIdh3BF72QRAN4EA6td/RuavJZoUdQmEveg3heYXpzUhbPNAhuQ0Q6hjtqdZt8066ryd5pC3q9dr39ecD1z/U+RZt8ytQPSwfZs671Z3U7xSzHWiwF94FgrljhjM3XQ6HEY5d1AlTLGp7XUyqez9ykttySov7fIvBnPiJcDx9SkbZAskSZWov/z6wJxZZkP2hFkELmLouQQWlqUcGzygCnLGVIcKougKqFr4tm/alNpD+NAvPB7XLyVJu7AXw/dtmASygvO5XTJXsYJ8k3OzIqNxTE7aiKUSIv0VBuq6OjQQLnALA/lssv9286ukArNxe0P5PMV/L4ocwebz/Of81V6USmTxaE7EmHiNY84HrZFr3CeBRKXF4ioArcLB4QMHY9y5t5X7hCSslbGzN5qWhZ4sI/v2rpVkUFu/ttTjkpY/wNoJoZ/zgPoWKXmnEnBZvjr9EgUNIZ2dZcYJLS27xxH3PCpBE7XFAF5yCZU7vL4WjzStSSfzyz9HSWH2qTBXRowp9ozKv6oXoCFTKDgAAYBHNWlVnM0GRyTvxvkz2Lo351c7KK8gY+YwAfMDiHGhxhLRBhsxrURByG3ehu+N91FQDChz0EC4KwBvTbtN5UVOk9YINiu4FarhEVxyGvdvwRtDIOZ9uYwUqRMWQmukbuZ+aldbyzRVbi6U0vEaBuxwkdbL8wxxEnDA1vHt0FsqVLZOEe4Lvzq83BO3qRA4tnTdtZ7HTYLqVLq8DDzKDNEgKJf0W+cYt8iL9QiLaHtRxBcyCq/FxnIh2a8lLuYbelnEO9B5zt6h0ARdy+3t99Hpb78yks7uMEPRjnw7ECgNzNjUhpRs/yOHtiuKxdaIVQBX/u7tvfcgVvgCtvKyuN0HbvdyJWBnZT1FSQm74sZmoQAANQwSs9A2kdjWsEsh8jBqEAt49n5gHhvCONAfaRTreO282jIlh61pJq/xmJjpkwjsVN7T0x8+LW/Vmu5xZJR3KKe4VAABW5DEjA8HQZtRmTm2nb8hbZ/zumksiIocuLAiVfb7XMZOofGDfRr6y2sUK4ad1zrtR6ldndfUli2FKXjwGQ8Hbvh+2L7ucOchY4s6RCviPNf9pL4VJSDcgRjf3O37ZVxPFJ3REy0a/Sse4KUG2knzQ8gs7t0RmbZiXfn+GduTMlgtJv0mmQY9RrZctHfvRuijY809uqYbJPiJI0j/V0LX9YblPicIfGChlXtlLY+Z0MhJMAAD7xXgI4yFzdDhCBMI5bT+RG6PEePlDWb5/RX/Z1O/NF3Ndju0aWzdOFq+cvxRonrEMtHhq0IMPPeqky4oTLL0bYvibCPcKKtrIUVqRAawxUmtqd/GnhttMKekp629po8+srExr23g2PoYIGjRs6tAMdkBjIgVp0f4rJj63fhl5PAdV6HHppUCX/Usl7VGpgyIdFnS9gHZZnojqiLWa5bf+gmTSBOkW4KPMaFIAA0LNAXY4xC6fIHqcEZrKSjcNiYZzRyWo//yjChut1ABx63dxqQNBdEHwrGVgR7kLT7ZlzZUrmJVIO0Os3v6anCXJPIRbW6KGsnmKDbVM1H+Bu6F+gm8ZGqjgRdKdQYlsAMUcp16EpTCyyBD0arWM0gjC7hFaexkuY3hL1yRVk8OifXhtN0owNqGeqzVvTeS5yrbNQyhEFFV8o11RKLRxR73u4UMHJyd8+1KRS+mZST22NJbFutTCQfRPZTl5CQfTHBIuw9+CTUDRUXH9vuW3p0yPC3tVlJYm7cnxU0yXkcpwKZya8FX0jZ3X1I4AANxzMYoFbGI22BpcPothwk52kjJizSOzLYI+GBuHzIU0U9TKrQhzBgo9zn2WemtGBFJ7Ww/pJy+Bmni+gnMUojwTijo00CzoSvkZG9UE5WDpvesZ/ezXW+eLN2cl00n62onqjvvAyfpHw6z/RSdKX0qgz4JRdAu8SrE/T8R4zjXmY+j/jYgRgFVqxAfkEC/H0edcfoerkExFyB2lHD1XxWRZMAOg5adWsNQsoYSFn3VRxasWOM+fLVvxEjoWBm07gPLxdYetR0fxWLtHwmDdx95mPzVzoEaHTCOvsJTBnnqhtqxqC+EeeVmwuhtJ4kgnvmHV5KwcEJlu4u25emeYrmZ8ucvUsyQOIl/vxwqGCIK2GBUhPB6DiGHFoIDeM4qB2GHEnL5phwaHvdo8vGncjeNA44Gog6k9PtIm0BBaN569hJQ2kcy+2ivo2sBm6WPnUGOnZEvJpvD1B05L/XMUcvDWNh8QERmmGF2VgcHnvkRgtmCdzZ25dcNzSa7ec0q2tetHeE9cMOtCxDW0cXxEykGAxB8qaPxtDajIRySmZnCVy6ogQxvqtaICG8Pe1WLsQO/OI/U29Ohxc4T0nNM8+ai7kwXsF9YDEIngkc37KSc0iN/ocsenQeeu557ZXq3pQcQzpg8QgDjbNSHZYifCGLMAsfsQWNrfqfV9eoM460Z4l4FeU5/XZ9+FGi/CNXSIoZSzVrd9pZMT1gWVG+D34ddpplLdAZ0m/sphtigIbAR/KD5+QZXE/WHSIBnErXXg2OQhVsckQHDhs6JQc8Nzi3dy+paiKxbKZBgBZJUriazIXve9jZhe3U01FOm7dweYJSV7/gAa2bn7c6k4ti4nnBew2t1No/ri50VfJRVNsU+RCXbfS7NP6mjDTvnmbfrDiIuNWjkOl+8iophQE6UP8mhAaoOALqp6itZMqdHNZLr7GJ9hcn+tY4jM0CH7Hw4h1B9o/9CzyJDx9N5AUGSFnVzuhYx2dpycUtlxPSLAKRKKBcYl0om6URpHVGDnNKMkQAAqCIHgAAfLPukBDy5ibTDA9Y7wvhlBKgfOXeHkVRAlJHdXxZlnPc9te1FLbf53n09HZWRmkkKyP9fMIqNxlV+kL/syDcmtyDF7StBEeivFhYUbNeCS+6dZZn+Yhc7mVsPtkVSuHi8338Y1EsSR/+kHPFq1hbNytA+eKu91pnLXJ7efnJNHRCQFpBt6Kq+23eX71E0Uk0I7sn9x4bKcKnFXEZHAgcFXZ7NIcJm8Ml8TvU06hjilU/uyrcWgcQ2+EuBnQBXCui5ceCRy3yVMHKzXI6t0ZpBMAfKyrw/CUpVuL14B6SZwnBX8NwN1g6HOHSyzi9lndYX6iDZHkVwolFmXNYffBTRj2xmk/xe1FctuwyHlcLcwUdhwJaBVb30r3NIv0XEBDjVwYQo1+hrSFRLnzwVaDsyOPhSlS7p46ODeOQxgQatyMkdS2lO9oq2PB0S9FBpSwZGITmvfsnbAbPzZS6PudISdN00pHM0LC48IfaW9Bnv0jcexBjf9jMQoimHeF7je3RwT3Ap+MkLX8CNaneoDMuQv6j+LdThIHmjYh6FK6UlTSKWunLefRLvc0mzmwnkVR+bcCrHujLV8ovr3dqsXUbwl+gUdaCTBJaSao1VdJMaFRFoErw+KvHjaN8euV4ddaF/hfaZiJnNK78SHGWaOkC8DuVP0kqVC46lfW2VY/3DeFJe6nwhLufVv1nLwhJGLiIdtuGjShxeziKCL6e4eek6vCelFa4Yupv2ribeoAFdPEtmKMyozsiyeBhmVQBKYfy9ZdHz/EkbkOw4Lu4r6xiFLFpufNxNAo6UI+hFcXXaavr+U9eDC0LoyJgQQzJsaDte2faiK+8ZOmdN6XxcZOU8Gx3Y6YH3lUfIbeD27VWIYXDK2IOj62HXVq8UEeReaL2YxEeQhm21sPWdFn/XHjT5rNwSkM8c+XMU6m7MMVuxmd5Hx+JtMmsZ5APpu4krmiDIMnBuOe1SfLBUgWqnJaszsWoBScF9mpq8vinBd7U/lD897BL5fB1f5x/2ZM8eqXFLS5dz8Z2ypmlpvlZBM5Qb/cMOzoMTL6amAYJArDx2vkNuFMkiIWpY58oD99nyW9RgnE0pZxEeAAe+rQQt3s2T9OVve9s4LthYouo42ODsGIvCxEj6szW6TFACKQ7ov/3jfGqKa9YahfylyBCht15NtRQ+aaYYEPHr0gX0zd2MaSLwmp+RF7fp6Vi3yjzqnLxfrPG/pfdrG3Cw52tuYEy/EoDnWbrUQDWQ+tYAcGpj7pmiQAlndWPZ3TH84QSughNa7Pc4djtmz/Zi+akbblIDmm0Tl/x1rlOGKSA9sbYCYo6X7IYUwfSNnNxK7yJpmCL5QrJJIY8rQDbesHeqwXqPjBwqE+SxWQAiMx7RZQD9iev+xqAL3vm4eS/aLf4Z4pYAICuoRBCfQpulfBWGXGDrWyA09FuRmPyAE+eVRMV4rZJQPRBRy2Gq8gtpKxC770F6hYLUzugM66OMPU6GUaPJ7axlGYkd6BwSsfCZeTNdOcGKJ5AFJ+f3WkI82KVkvq89Jcok2TPaaciRKeZ5MZOT03S6nIA9qsM7g19s7R9QQZISeYcU6ggSfVJtczXvg8LjV3O1J0OHJ33Hh4S6rsL0VUUcZxjXh2YEEyhI1qDLOIgb5jl9Z3h9njoVcz1VvGGkDKyuH1HSQurN8WymW/XgOJQqZoDzOtNj9jofHLWCvqUkcQj1/JralxzFaX5vGOtu5xXhQh2Kcz3iZuVzxg4qUiyJT510Wj5x6tnj7TL9eno/14XA5xI+ECM0Tn0hy51kTMhk7zcAZt+8iglnMMcEYk1BsznZr1+Lh5irz588KRgkaEB5B7YethZPZ0fQbQnUPBFo853cqKnUvJIhF1w4r4GM0uCqtCmcIxMUZj55MdYpmA8aSvOIXubMruMUoMkKky3ytER/tNcHis5tGhcDmvPYBQsOpgjh4Q3PvFjeSuozyeRfFwoWEqFuwuE0SkxexJ92di2tkE7Dx+TaITwC0sNyGJpXkjrwSeMhv0L6CKQ8zHsa7yYjEP/rrE1q2uotTUjoRRnogyw+E5JLfcJYxd/oivelYav+0k1zDtOWxqNFjoaMmtT192EI8a2D2GzK+Y7+76YbdnTvZSpBnjmmNM5Km/AnfrYT2r4gV4MfJ9BT07dE173q9loXzOhkzD7E5G+GnDAAvv+DO2UTGxwEV3wy106AkqM7gORQXJzTUhC4Xn+jgYE6Au6HPR8KAl7P5JDiMyqiB/oka80OoshGW9VQlSs42Mp61hVy43YV+IEoLRZhS/k+qgt9M9Wn87jqYIsCoMYFoGJHJZI/Cy/pnLLTIdw7YkugiWqABj026mcKuwXk44BRAnyl3D4T9dRVecK0Yn5KJ3Nvsjwh4XMFHom2T+NklhpXK37nVziF4iAsZFNC0OI98eKRfVQ6z3yBPzwMI5WH89gZ11GNbp4xr6i36asyXbkq6wNIXPGmLEg+6B3C0NBC9ZT9HTFy0VZ4cpgo6OTE4M+t05H8+fHEPgB9TKOIejy9mW/xv/HH93QY/sPcrmwcp48YSKCQ5APBkV4YvA/qPV+X1h6UthF1bzsGJ3/0ySf5WryPs9Xw2kRDGhL2I/gUdCGNG0aeky5J/svbyKJ3FgWE8/A7k5xz+mf8H0qttfXXjMMuUO3Q7NsW4SGpPhPbUkqzUTqACb6/R8t7Th64aN/g0nTb4/meTtmhZk3QfmDXEDQcWa94RSu9S4X7HiU/A27nHTqtAskMYYCei8sVPOkdF5VxZNA7IsyTbze8kZRcf2OFWyV6KMYgxaOeWYcga43tUEzEaoVDAAVNUyl3+IYJvucYJbLltDB7hAZqwDxm87J8k5AF804XDhcjJxaMA2tvTZLKtY1scrO0P+2cLijQaFbUqpSkeupsNljCq5jOjDfu/bSnz5DVIrf7BWtJCRDk8828lZJ0U2R0fdbxyANPNK1mdc9KoNuEAirt7gllepl5ZFfLDw5fxrJOgwox0C7Wf8j0nVwg1xZ64+GA8NsLbBzFnCjzOqfocF1LV9V536eQHgDyEnsxQkhAMzc1DhzAFaUdg6z+FWDg2iID7xrAsHI+4NHmYNN8na1XNcK0RoPhtxxn4ZUAAAMAACamCHGzzzhebPNiLGd2a9LxTBUusF9pWJev5wxagSmtGGj5pSrz6c2yKSw0vu+MWVNCl3igVAAA2XH47zHWwPFeO30ZHb+yxpTFIcqbFH7Id/T44F24lgVYRMV353BdJ8KaP4QlcghWnQEzkSnI1f0yJxes5qX1ymSmN3hyOUJhOES82d5TNX9Y6tcDK0zl2Z0jeNCroCNatYXGiYzK61uVmeSXJ+ci+S+kxVy1drhbKuy8QOhnorqKtgJI+OHgZJzeqhqUVrGSW8ea669RvfcBKZhDRP14sGyGJ7cY46gt8iPP8kZFpoF/h9/OKLwc4LZ6/ECLLhvMJanItVmlNN7ZUmlItrNrZFWvUYCpV8ub0Da98P7nQAZb83LjH7TW/SqgTsTbK2OBzCb39ymlWmreykpyp63aZM9ddmWkOpUAvPg606w5rq/Y0iJwNnxLFyCwG2fqOVDQdR35ddrQV/erYyReN4Gt5ASyHzS3V/L9OGYvn6iWLHa8QBlwfygAWgphh05SPIEMFIrt58kZtCcjTMLqv7hCV3sVra1q7G8+R7yWDXHZyZ2748337S8PwinG7Bde66Z3AzyteO+str19vqi6P+LrCbrdKoe71sVWgHwiSV0KCIk3qf+jRQ1Bcdlwwtpe+F/Q/ahjuWZST855NcI79HPJd2gMabY1oAjqPhg5y210vjb6PDDaPNuYQ82kYrsNnB/INEjdjV8V1sT68cpOOWyG+VM2Gx1Ri1Fx3wl/HI3Mi7EknANvKVzsE5MuldVON8QRkbAqfkVCRyIViNvLpVHOC8fhnABX1MTwW0AZS28Q7PetlMYkkC8zKRVI/JCYoqxHLAFob8vncGKEn5V/1+nv6CztmevDh/rTtjBURnTjcaHbiKaHknmd8Gt5KD2LVwIx5cB+xO7rUM2/yqkzWcy8IAYqB0Oi56zWzw6aJPG8biH9DQsaIZZuLSbFWCib3f066LR6rDcVWLaTfwN7LsvYdoFTvaEQP7n3Gph3N1qp/8y++m95C9B/EK4tmMIcNFERP3WFSJsCV7V6JNFQBNWII85C4ToHfgsRQM6DoJ3Zm6Xvtf7+IL/azAKqptHG8B2a1XubBBvGVZe8J7T+Z5hLn/EuA53QYrvDgzaBIHGC+ZztfJg0pDigAJ2APlW9LuTjyweSJMLjvFWivkNNoZHxEoFxDTvfreYwOHWzLXr1mLhswodylVmJqb9X+zrHvOOqNzcgALzfXmCWBnMsuOyxFPJ8H28x7Q2gZgnQTOOsMcjkY1kqxiPwPmlqFNM4qKJdZQtv55l6Ax630P7yY8tfIZ5OlfINU4azn21PY+joW0eZX2i1QAAQPaXs+o1vbVrmRkLCiBCijqoKuEuw1FNP8Ogv/6I5bZqPnyXn/K9qLB7a5PjxHhh2Cpff7URQ04yWC/fJdg6sO58HEGLFO/eXruvtpd3W1vfrgMAB5loFyWwAAAMAAAMAAAMAAAMAF9EAAACAQZoiYQeA/iQPQwBAUJ/98QCQjUQBCz66ERumta8qb9cgWmsbLB2YRJtn572b0o/EsLg3Psfy2K+IFJmRx3dpvRvzCbhdaRpXsZwP0G97UshTz0a2i0saTWttCQIUvWp1eH99kvOcMMU6WjYbRV+aG7xC7/NrZx8m6OjMcWAAXkAAAABrAZ5BeQn/Arif4tEyUiUNShqcwyfCck0sAFKIIwn77IRbmxCRWbSewxxe5HBANZHzdl0ztc6QB3Us2dtPCsKSuqDvT6ilYtGdhcCybRq0VJ1y0CYCR6NyK/CdYHGeI9fn/RaX5WOTb9oNDZkAAAM4bW9vdgAAAGxtdmhkAAAAAAAAAAAAAAAAAAAD6AAAAGQAAQAAAQAAAAAAAAAAAAAAAAEAAAAAAAAAAAAAAAAAAAABAAAAAAAAAAAAAAAAAABAAAAAAAAAAAAAAAAAAAAAAAAAAAAAAAAAAAAAAAAAAgAAAmJ0cmFrAAAAXHRraGQAAAADAAAAAAAAAAAAAAABAAAAAAAAAGQAAAAAAAAAAAAAAAAAAAAAAAEAAAAAAAAAAAAAAAAAAAABAAAAAAAAAAAAAAAAAABAAAAAAlgAAAH0AAAAAAAkZWR0cwAAABxlbHN0AAAAAAAAAAEAAABkAAAEAAABAAAAAAHabWRpYQAAACBtZGhkAAAAAAAAAAAAAAAAAAA8AAAABgBVxAAAAAAALWhkbHIAAAAAAAAAAHZpZGUAAAAAAAAAAAAAAABWaWRlb0hhbmRsZXIAAAABhW1pbmYAAAAUdm1oZAAAAAEAAAAAAAAAAAAAACRkaW5mAAAAHGRyZWYAAAAAAAAAAQAAAAx1cmwgAAAAAQAAAUVzdGJsAAAAmXN0c2QAAAAAAAAAAQAAAIlhdmMxAAAAAAAAAAEAAAAAAAAAAAAAAAAAAAAAAlgB9ABIAAAASAAAAAAAAAABAAAAAAAAAAAAAAAAAAAAAAAAAAAAAAAAAAAAAAAAAAAAGP//AAAAM2F2Y0MBZAAe/+EAGmdkAB6s2UCYEHlnhAAAAwAEAAADAPA8WLZYAQAGaOvjyyLAAAAAGHN0dHMAAAAAAAAAAQAAAAMAAAIAAAAAFHN0c3MAAAAAAAAAAQAAAAEAAAAoY3R0cwAAAAAAAAADAAAAAQAABAAAAAABAAAGAAAAAAEAAAIAAAAAHHN0c2MAAAAAAAAAAQAAAAEAAAADAAAAAQAAACBzdHN6AAAAAAAAAAAAAAADAAAf3wAAAIQAAABvAAAAFHN0Y28AAAAAAAAAAQAAADAAAABidWR0YQAAAFptZXRhAAAAAAAAACFoZGxyAAAAAAAAAABtZGlyYXBwbAAAAAAAAAAAAAAAAC1pbHN0AAAAJal0b28AAAAdZGF0YQAAAAEAAAAATGF2ZjU3LjcyLjEwMQ==\" type=\"video/mp4\">\n",
              " Your browser does not support the video tag.\n",
              " </video>"
            ]
          },
          "metadata": {}
        }
      ],
      "source": [
        "visualize(algorithm=expert, video_name='expert')"
      ]
    }
  ],
  "metadata": {
    "colab": {
      "provenance": []
    },
    "kernelspec": {
      "display_name": "Python 3",
      "name": "python3"
    },
    "language_info": {
      "name": "python"
    }
  },
  "nbformat": 4,
  "nbformat_minor": 0
}